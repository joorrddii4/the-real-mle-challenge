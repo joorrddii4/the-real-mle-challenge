{
 "cells": [
  {
   "cell_type": "code",
   "execution_count": 4,
   "id": "7c07cd7e-f99f-49b8-bc8b-738c7b2292df",
   "metadata": {},
   "outputs": [],
   "source": [
    "from ipywidgets import widgets\n",
    "from IPython.display import display, clear_output\n",
    "import matplotlib.pyplot as plt\n",
    "import seaborn as sns\n",
    "import os\n",
    "from pathlib import Path\n",
    "import pandas as pd\n",
    "import pickle"
   ]
  },
  {
   "cell_type": "code",
   "execution_count": 5,
   "id": "2423e672-8a2c-4d26-bc74-e0641de477a1",
   "metadata": {},
   "outputs": [],
   "source": [
    "DIR_REPO = Path.cwd().parent.parent\n",
    "DIR_DATA_PROCESSED = Path(DIR_REPO) / \"data\" / \"processed\"\n",
    "DIR_MODELS = Path(DIR_REPO) / \"models\"\n",
    "\n",
    "os.listdir(DIR_DATA_PROCESSED)\n",
    "FILEPATH_PROCESSED = DIR_DATA_PROCESSED / \"preprocessed_listings.csv\"\n",
    "df = pd.read_csv(FILEPATH_PROCESSED, index_col=0)"
   ]
  },
  {
   "cell_type": "code",
   "execution_count": 6,
   "id": "b00de58a-ea80-4fc7-b917-e823a984ec30",
   "metadata": {},
   "outputs": [],
   "source": [
    "with open(DIR_MODELS / \"simple_classifier.pkl\", 'rb') as f:\n",
    "    model = pickle.load(f)"
   ]
  },
  {
   "cell_type": "code",
   "execution_count": 7,
   "id": "20dab76c-8793-4d3a-acc5-0336934c4a85",
   "metadata": {},
   "outputs": [],
   "source": [
    "def prepare_data(PT,Nbh,RT,Lat,Lon,Acm,Bath,Bedrms,Beds,Amnts):\n",
    "    for i,p in enumerate(list(df['property_type'].unique())):\n",
    "        if p == PT:\n",
    "            PT = i+1\n",
    "            break\n",
    "    Nbh = {\"Bronx\": 1, \"Queens\": 2, \"Staten Island\": 3, \"Brooklyn\": 4, \"Manhattan\": 5}[Nbh]\n",
    "    RT = {\"Shared room\": 1, \"Private room\": 2, \"Entire home/apt\": 3, \"Hotel room\": 4}[RT]\n",
    "    \n",
    "    TV,Internet,Air_conditioning,Kitchen,Heating,Wifi,Elevator,Breakfast = 0,0,0,0,0,0,0,0\n",
    "    if \"TV\" in Amnts:\n",
    "        TV=1\n",
    "    if \"Internet\" in Amnts:\n",
    "        Internet=1\n",
    "    if \"Air_conditioning\" in Amnts:\n",
    "        Air_conditioning=1\n",
    "    if \"Kitchen\" in Amnts:\n",
    "        Kitchen=1\n",
    "    if \"Heating\" in Amnts:\n",
    "        Heating=1\n",
    "    if \"Wifi\" in Amnts:\n",
    "        Wifi=1\n",
    "    if \"Elevator\" in Amnts:\n",
    "        Elevator=1\n",
    "    if \"Breakfast\" in Amnts:\n",
    "        Breakfast=1\n",
    "    \n",
    "    \n",
    "    dic_tmp = { \"neighbourhood\": Nbh,\n",
    "            \"property_type\":PT,\n",
    "            \"room_type\": RT,\n",
    "            \"latitude\": Lat,\n",
    "            \"longitude\": Lon,\n",
    "            \"accommodates\": Acm,\n",
    "            \"bathrooms\": Bath,\n",
    "            \"bedrooms\": Bedrms,\n",
    "            \"beds\": Beds,\n",
    "            \"TV\": TV,\n",
    "            \"Internet\": Internet,\n",
    "            \"Air_conditioning\":Air_conditioning,\n",
    "            \"Kitchen\":Kitchen,\n",
    "            \"Heating\":Heating,\n",
    "            \"Wifi\":Wifi,\n",
    "            \"Elevator\": Elevator,\n",
    "            \"Breakfast\":Breakfast\n",
    "    }\n",
    "    pred_values = pd.Series(dic_tmp).values.reshape(1, -1)\n",
    "    return pred_values"
   ]
  },
  {
   "cell_type": "code",
   "execution_count": 8,
   "id": "70242485-5848-4f17-9c3c-56201d01b7cd",
   "metadata": {},
   "outputs": [],
   "source": [
    "Property_Type = widgets.Dropdown(options =list(df['property_type'].unique()),description = 'Property type')"
   ]
  },
  {
   "cell_type": "code",
   "execution_count": 9,
   "id": "6191ee5e-2665-4d1b-a6ec-d93e09e8b105",
   "metadata": {},
   "outputs": [],
   "source": [
    "Neighbourhood = widgets.ToggleButtons(\n",
    "    options=['Bronx', 'Queens', 'Staten Island', 'Brooklyn', 'Manhattan'],\n",
    "    description='Neighbourhood:',\n",
    "    disabled=False,\n",
    "    button_style='info')"
   ]
  },
  {
   "cell_type": "code",
   "execution_count": 10,
   "id": "b8f94cdb-fa2e-4808-9662-7c69f7f8276a",
   "metadata": {},
   "outputs": [],
   "source": [
    "Room_Type = widgets.ToggleButtons(\n",
    "    options=['Shared room', 'Private room', 'Entire home/apt', 'Hotel room'],\n",
    "    description='Room type:',\n",
    "    disabled=False,\n",
    "    button_style='info')"
   ]
  },
  {
   "cell_type": "code",
   "execution_count": 11,
   "id": "5f9c4bf4-ea85-486c-91ed-6a9e6fef2c01",
   "metadata": {},
   "outputs": [],
   "source": [
    "Coords = widgets.HBox([widgets.Label(value=\"Latitude\"), widgets.FloatText(),widgets.Label(value=\"Longitude\"), widgets.FloatText()])"
   ]
  },
  {
   "cell_type": "code",
   "execution_count": 12,
   "id": "75166d0c-4054-41ef-bf9e-3967e8209bc9",
   "metadata": {},
   "outputs": [],
   "source": [
    "Acommodates = widgets.HBox([widgets.Label(value=\"Acommodates\"), widgets.IntSlider(min=1,max=20)])"
   ]
  },
  {
   "cell_type": "code",
   "execution_count": 13,
   "id": "d0c5f02b-f298-48cd-a396-90a4f83baaeb",
   "metadata": {},
   "outputs": [],
   "source": [
    "Bathrooms = widgets.HBox([widgets.Label(value=\"Bathrooms\"), widgets.FloatSlider(min=0,max=10,step=0.5)])"
   ]
  },
  {
   "cell_type": "code",
   "execution_count": 14,
   "id": "d808e014-12af-448c-a3e4-2bf94856499a",
   "metadata": {},
   "outputs": [],
   "source": [
    "Bedrooms = widgets.HBox([widgets.Label(value=\"Bedrooms\"), widgets.IntSlider(min=1,max=15)])"
   ]
  },
  {
   "cell_type": "code",
   "execution_count": 15,
   "id": "9d36a234-f328-4120-9dc9-8d3b81fb72b8",
   "metadata": {},
   "outputs": [],
   "source": [
    "Beds = widgets.HBox([widgets.Label(value=\"Beds\"), widgets.IntSlider(min=1,max=30)])"
   ]
  },
  {
   "cell_type": "code",
   "execution_count": 16,
   "id": "44599608-4d0b-4c6c-ab6c-b5b7ae494181",
   "metadata": {},
   "outputs": [],
   "source": [
    "Amenities = widgets.SelectMultiple(\n",
    "    options=['TV', 'Internet', 'Air_conditioning','Kitchen','Heating','Wifi','Elevator','Breakfast'],\n",
    "    rows=8,\n",
    "    description='Amenities',\n",
    "    disabled=False\n",
    ")"
   ]
  },
  {
   "cell_type": "code",
   "execution_count": 20,
   "id": "c3a0c939-0da0-448a-8160-e8c29fc82aee",
   "metadata": {},
   "outputs": [
    {
     "data": {
      "application/vnd.jupyter.widget-view+json": {
       "model_id": "9134d63b4aa54a85b94976fda915efe9",
       "version_major": 2,
       "version_minor": 0
      },
      "text/plain": [
       "Output(layout=Layout(border='1px solid black'))"
      ]
     },
     "metadata": {},
     "output_type": "display_data"
    }
   ],
   "source": [
    "btn = widgets.Button (description= \"Predict\")\n",
    "clear_btn = widgets.Button (description= \"Clear\")\n",
    "output = widgets.Output(layout={'border': '1px solid black'})\n",
    "@output.capture()\n",
    "def btn_eventhandler (obj):\n",
    "    pred_values = prepare_data(Property_Type.value,\n",
    "                               Neighbourhood.value,\n",
    "                               Room_Type.value,\n",
    "                               Coords.children[1].value,\n",
    "                               Coords.children[3].value,\n",
    "                               Acommodates.children[1].value,\n",
    "                               Bathrooms.children[1].value,\n",
    "                               Bedrooms.children[1].value,\n",
    "                               Beds.children[1].value,\n",
    "                               Amenities.value\n",
    "                              )\n",
    "    tmp = model.predict(pred_values)\n",
    "    \n",
    "    predicted_category = {0:'Low', 1:'Mid', 2:'High', 3:'Luxury'}[int(tmp[0])]\n",
    "    with output:\n",
    "        output.clear_output()\n",
    "        print(\"Predicted Category:\", predicted_category)\n",
    "def clear_btn_event (obj):\n",
    "    with output:\n",
    "        output.clear_output()\n",
    "        \n",
    "btn.on_click(btn_eventhandler)\n",
    "clear_btn.on_click(clear_btn_event)\n",
    "display(output)"
   ]
  },
  {
   "cell_type": "code",
   "execution_count": 21,
   "id": "ef500524-fd59-4f8d-bcdd-85debd711f90",
   "metadata": {},
   "outputs": [
    {
     "data": {
      "application/vnd.jupyter.widget-view+json": {
       "model_id": "cc496422057544398c568e757d4fb00a",
       "version_major": 2,
       "version_minor": 0
      },
      "text/plain": [
       "VBox(children=(Dropdown(description='Property type', options=('Entire guest suite', 'Entire rental unit', 'Pri…"
      ]
     },
     "metadata": {},
     "output_type": "display_data"
    }
   ],
   "source": [
    "widgets.VBox([Property_Type, Neighbourhood,Room_Type,Coords,widgets.HBox([Acommodates, Bedrooms]),widgets.HBox([Bathrooms, Beds]),Amenities,widgets.HBox([btn, clear_btn]),output])"
   ]
  },
  {
   "cell_type": "code",
   "execution_count": null,
   "id": "5b13c45e-0101-4f5e-b1d0-e0f5d477f625",
   "metadata": {},
   "outputs": [],
   "source": []
  }
 ],
 "metadata": {
  "kernelspec": {
   "display_name": "Python 3 (ipykernel)",
   "language": "python",
   "name": "python3"
  },
  "language_info": {
   "codemirror_mode": {
    "name": "ipython",
    "version": 3
   },
   "file_extension": ".py",
   "mimetype": "text/x-python",
   "name": "python",
   "nbconvert_exporter": "python",
   "pygments_lexer": "ipython3",
   "version": "3.8.12"
  }
 },
 "nbformat": 4,
 "nbformat_minor": 5
}
