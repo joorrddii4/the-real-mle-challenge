{
 "cells": [
  {
   "cell_type": "markdown",
   "id": "456c039a",
   "metadata": {},
   "source": [
    "# Preliminary model for classification"
   ]
  },
  {
   "cell_type": "markdown",
   "id": "88c2f0d3",
   "metadata": {},
   "source": [
    "This notebook aims to develop a preliminary version of a classifier for the challenge."
   ]
  },
  {
   "cell_type": "code",
   "execution_count": 2,
   "id": "7d97dfb0",
   "metadata": {},
   "outputs": [],
   "source": [
    "import os\n",
    "from pathlib import Path\n",
    "\n",
    "from matplotlib import pyplot as plt\n",
    "import numpy as np\n",
    "import pandas as pd\n",
    "\n",
    "import seaborn as sns\n",
    "from sklearn.ensemble import RandomForestClassifier\n",
    "from sklearn.metrics import accuracy_score, roc_auc_score, classification_report, confusion_matrix\n",
    "from sklearn.model_selection import train_test_split\n",
    "from sklearn.model_selection import GridSearchCV\n",
    "\n",
    "import pickle\n",
    "\n",
    "from tpot import TPOTClassifier"
   ]
  },
  {
   "cell_type": "markdown",
   "id": "684877bc",
   "metadata": {},
   "source": [
    "## Access processed data"
   ]
  },
  {
   "cell_type": "code",
   "execution_count": 3,
   "id": "b3045f11",
   "metadata": {},
   "outputs": [
    {
     "data": {
      "text/plain": [
       "['preprocessed_listings.csv']"
      ]
     },
     "execution_count": 68,
     "metadata": {},
     "output_type": "execute_result"
    }
   ],
   "source": [
    "DIR_REPO = Path.cwd().parent.parent\n",
    "DIR_DATA_PROCESSED = Path(DIR_REPO) / \"data\" / \"processed\"\n",
    "DIR_MODELS = Path(DIR_REPO) / \"models\"\n",
    "\n",
    "os.listdir(DIR_DATA_PROCESSED)"
   ]
  },
  {
   "cell_type": "code",
   "execution_count": 4,
   "id": "cd7a8eaa",
   "metadata": {},
   "outputs": [],
   "source": [
    "FILEPATH_PROCESSED = DIR_DATA_PROCESSED / \"preprocessed_listings.csv\""
   ]
  },
  {
   "cell_type": "code",
   "execution_count": 5,
   "id": "73c6edbd",
   "metadata": {},
   "outputs": [
    {
     "data": {
      "text/html": [
       "<div>\n",
       "<style scoped>\n",
       "    .dataframe tbody tr th:only-of-type {\n",
       "        vertical-align: middle;\n",
       "    }\n",
       "\n",
       "    .dataframe tbody tr th {\n",
       "        vertical-align: top;\n",
       "    }\n",
       "\n",
       "    .dataframe thead th {\n",
       "        text-align: right;\n",
       "    }\n",
       "</style>\n",
       "<table border=\"1\" class=\"dataframe\">\n",
       "  <thead>\n",
       "    <tr style=\"text-align: right;\">\n",
       "      <th></th>\n",
       "      <th>id</th>\n",
       "      <th>neighbourhood</th>\n",
       "      <th>property_type</th>\n",
       "      <th>room_type</th>\n",
       "      <th>latitude</th>\n",
       "      <th>longitude</th>\n",
       "      <th>accommodates</th>\n",
       "      <th>bathrooms</th>\n",
       "      <th>bedrooms</th>\n",
       "      <th>beds</th>\n",
       "      <th>price</th>\n",
       "      <th>category</th>\n",
       "      <th>TV</th>\n",
       "      <th>Internet</th>\n",
       "      <th>Air_conditioning</th>\n",
       "      <th>Kitchen</th>\n",
       "      <th>Heating</th>\n",
       "      <th>Wifi</th>\n",
       "      <th>Elevator</th>\n",
       "      <th>Breakfast</th>\n",
       "    </tr>\n",
       "  </thead>\n",
       "  <tbody>\n",
       "    <tr>\n",
       "      <th>1</th>\n",
       "      <td>3831</td>\n",
       "      <td>Brooklyn</td>\n",
       "      <td>Entire guest suite</td>\n",
       "      <td>Entire home/apt</td>\n",
       "      <td>40.68494</td>\n",
       "      <td>-73.95765</td>\n",
       "      <td>3</td>\n",
       "      <td>1.0</td>\n",
       "      <td>1.0</td>\n",
       "      <td>3.0</td>\n",
       "      <td>75</td>\n",
       "      <td>0</td>\n",
       "      <td>1</td>\n",
       "      <td>0</td>\n",
       "      <td>1</td>\n",
       "      <td>1</td>\n",
       "      <td>1</td>\n",
       "      <td>1</td>\n",
       "      <td>0</td>\n",
       "      <td>0</td>\n",
       "    </tr>\n",
       "    <tr>\n",
       "      <th>3</th>\n",
       "      <td>5136</td>\n",
       "      <td>Brooklyn</td>\n",
       "      <td>Entire rental unit</td>\n",
       "      <td>Entire home/apt</td>\n",
       "      <td>40.66265</td>\n",
       "      <td>-73.99454</td>\n",
       "      <td>4</td>\n",
       "      <td>1.5</td>\n",
       "      <td>2.0</td>\n",
       "      <td>2.0</td>\n",
       "      <td>275</td>\n",
       "      <td>2</td>\n",
       "      <td>1</td>\n",
       "      <td>0</td>\n",
       "      <td>1</td>\n",
       "      <td>1</td>\n",
       "      <td>1</td>\n",
       "      <td>1</td>\n",
       "      <td>0</td>\n",
       "      <td>0</td>\n",
       "    </tr>\n",
       "    <tr>\n",
       "      <th>4</th>\n",
       "      <td>5178</td>\n",
       "      <td>Manhattan</td>\n",
       "      <td>Private room in rental unit</td>\n",
       "      <td>Private room</td>\n",
       "      <td>40.76457</td>\n",
       "      <td>-73.98317</td>\n",
       "      <td>2</td>\n",
       "      <td>1.0</td>\n",
       "      <td>1.0</td>\n",
       "      <td>1.0</td>\n",
       "      <td>68</td>\n",
       "      <td>0</td>\n",
       "      <td>1</td>\n",
       "      <td>0</td>\n",
       "      <td>1</td>\n",
       "      <td>0</td>\n",
       "      <td>1</td>\n",
       "      <td>1</td>\n",
       "      <td>0</td>\n",
       "      <td>0</td>\n",
       "    </tr>\n",
       "    <tr>\n",
       "      <th>5</th>\n",
       "      <td>5203</td>\n",
       "      <td>Manhattan</td>\n",
       "      <td>Private room in rental unit</td>\n",
       "      <td>Private room</td>\n",
       "      <td>40.80380</td>\n",
       "      <td>-73.96751</td>\n",
       "      <td>1</td>\n",
       "      <td>1.0</td>\n",
       "      <td>1.0</td>\n",
       "      <td>1.0</td>\n",
       "      <td>75</td>\n",
       "      <td>0</td>\n",
       "      <td>0</td>\n",
       "      <td>0</td>\n",
       "      <td>1</td>\n",
       "      <td>0</td>\n",
       "      <td>1</td>\n",
       "      <td>1</td>\n",
       "      <td>1</td>\n",
       "      <td>1</td>\n",
       "    </tr>\n",
       "    <tr>\n",
       "      <th>8</th>\n",
       "      <td>6872</td>\n",
       "      <td>Manhattan</td>\n",
       "      <td>Private room in condominium (condo)</td>\n",
       "      <td>Private room</td>\n",
       "      <td>40.80107</td>\n",
       "      <td>-73.94255</td>\n",
       "      <td>1</td>\n",
       "      <td>1.0</td>\n",
       "      <td>1.0</td>\n",
       "      <td>1.0</td>\n",
       "      <td>65</td>\n",
       "      <td>0</td>\n",
       "      <td>0</td>\n",
       "      <td>0</td>\n",
       "      <td>0</td>\n",
       "      <td>1</td>\n",
       "      <td>1</td>\n",
       "      <td>1</td>\n",
       "      <td>1</td>\n",
       "      <td>0</td>\n",
       "    </tr>\n",
       "  </tbody>\n",
       "</table>\n",
       "</div>"
      ],
      "text/plain": [
       "     id neighbourhood                        property_type        room_type  \\\n",
       "1  3831      Brooklyn                   Entire guest suite  Entire home/apt   \n",
       "3  5136      Brooklyn                   Entire rental unit  Entire home/apt   \n",
       "4  5178     Manhattan          Private room in rental unit     Private room   \n",
       "5  5203     Manhattan          Private room in rental unit     Private room   \n",
       "8  6872     Manhattan  Private room in condominium (condo)     Private room   \n",
       "\n",
       "   latitude  longitude  accommodates  bathrooms  bedrooms  beds  price  \\\n",
       "1  40.68494  -73.95765             3        1.0       1.0   3.0     75   \n",
       "3  40.66265  -73.99454             4        1.5       2.0   2.0    275   \n",
       "4  40.76457  -73.98317             2        1.0       1.0   1.0     68   \n",
       "5  40.80380  -73.96751             1        1.0       1.0   1.0     75   \n",
       "8  40.80107  -73.94255             1        1.0       1.0   1.0     65   \n",
       "\n",
       "   category  TV  Internet  Air_conditioning  Kitchen  Heating  Wifi  Elevator  \\\n",
       "1         0   1         0                 1        1        1     1         0   \n",
       "3         2   1         0                 1        1        1     1         0   \n",
       "4         0   1         0                 1        0        1     1         0   \n",
       "5         0   0         0                 1        0        1     1         1   \n",
       "8         0   0         0                 0        1        1     1         1   \n",
       "\n",
       "   Breakfast  \n",
       "1          0  \n",
       "3          0  \n",
       "4          0  \n",
       "5          1  \n",
       "8          0  "
      ]
     },
     "execution_count": 70,
     "metadata": {},
     "output_type": "execute_result"
    }
   ],
   "source": [
    "df = pd.read_csv(FILEPATH_PROCESSED, index_col=0)\n",
    "df.head()"
   ]
  },
  {
   "cell_type": "markdown",
   "id": "d7bd841d",
   "metadata": {},
   "source": [
    "## Convert string to categorical variable"
   ]
  },
  {
   "cell_type": "code",
   "execution_count": 6,
   "id": "d5b18ca0",
   "metadata": {},
   "outputs": [],
   "source": [
    "# Categorical variable mapping dictionaries\n",
    "MAP_ROOM_TYPE = {\"Shared room\": 1, \"Private room\": 2, \"Entire home/apt\": 3, \"Hotel room\": 4}\n",
    "MAP_NEIGHB = {\"Bronx\": 1, \"Queens\": 2, \"Staten Island\": 3, \"Brooklyn\": 4, \"Manhattan\": 5}"
   ]
  },
  {
   "cell_type": "code",
   "execution_count": 7,
   "id": "224a346a-3018-4952-8692-c6396c342d7f",
   "metadata": {},
   "outputs": [],
   "source": [
    "MAP_PROPERTY_TYPE = {}\n",
    "for i,pt in enumerate(list(df['property_type'].unique())):\n",
    "    MAP_PROPERTY_TYPE.update({pt:i+1})"
   ]
  },
  {
   "cell_type": "code",
   "execution_count": 8,
   "id": "196eba7c",
   "metadata": {},
   "outputs": [],
   "source": [
    "# Map categorical features\n",
    "df[\"neighbourhood\"] = df[\"neighbourhood\"].map(MAP_NEIGHB)\n",
    "df[\"room_type\"] = df[\"room_type\"].map(MAP_ROOM_TYPE)\n",
    "df[\"property_type\"] = df[\"property_type\"].map(MAP_PROPERTY_TYPE)"
   ]
  },
  {
   "cell_type": "code",
   "execution_count": 9,
   "id": "18384e6f-7dda-4876-8cc3-1fec1dd7541d",
   "metadata": {},
   "outputs": [
    {
     "data": {
      "text/html": [
       "<div>\n",
       "<style scoped>\n",
       "    .dataframe tbody tr th:only-of-type {\n",
       "        vertical-align: middle;\n",
       "    }\n",
       "\n",
       "    .dataframe tbody tr th {\n",
       "        vertical-align: top;\n",
       "    }\n",
       "\n",
       "    .dataframe thead th {\n",
       "        text-align: right;\n",
       "    }\n",
       "</style>\n",
       "<table border=\"1\" class=\"dataframe\">\n",
       "  <thead>\n",
       "    <tr style=\"text-align: right;\">\n",
       "      <th></th>\n",
       "      <th>id</th>\n",
       "      <th>neighbourhood</th>\n",
       "      <th>property_type</th>\n",
       "      <th>room_type</th>\n",
       "      <th>latitude</th>\n",
       "      <th>longitude</th>\n",
       "      <th>accommodates</th>\n",
       "      <th>bathrooms</th>\n",
       "      <th>bedrooms</th>\n",
       "      <th>beds</th>\n",
       "      <th>price</th>\n",
       "      <th>category</th>\n",
       "      <th>TV</th>\n",
       "      <th>Internet</th>\n",
       "      <th>Air_conditioning</th>\n",
       "      <th>Kitchen</th>\n",
       "      <th>Heating</th>\n",
       "      <th>Wifi</th>\n",
       "      <th>Elevator</th>\n",
       "      <th>Breakfast</th>\n",
       "    </tr>\n",
       "  </thead>\n",
       "  <tbody>\n",
       "    <tr>\n",
       "      <th>1</th>\n",
       "      <td>3831</td>\n",
       "      <td>4</td>\n",
       "      <td>1</td>\n",
       "      <td>3</td>\n",
       "      <td>40.68494</td>\n",
       "      <td>-73.95765</td>\n",
       "      <td>3</td>\n",
       "      <td>1.0</td>\n",
       "      <td>1.0</td>\n",
       "      <td>3.0</td>\n",
       "      <td>75</td>\n",
       "      <td>0</td>\n",
       "      <td>1</td>\n",
       "      <td>0</td>\n",
       "      <td>1</td>\n",
       "      <td>1</td>\n",
       "      <td>1</td>\n",
       "      <td>1</td>\n",
       "      <td>0</td>\n",
       "      <td>0</td>\n",
       "    </tr>\n",
       "    <tr>\n",
       "      <th>3</th>\n",
       "      <td>5136</td>\n",
       "      <td>4</td>\n",
       "      <td>2</td>\n",
       "      <td>3</td>\n",
       "      <td>40.66265</td>\n",
       "      <td>-73.99454</td>\n",
       "      <td>4</td>\n",
       "      <td>1.5</td>\n",
       "      <td>2.0</td>\n",
       "      <td>2.0</td>\n",
       "      <td>275</td>\n",
       "      <td>2</td>\n",
       "      <td>1</td>\n",
       "      <td>0</td>\n",
       "      <td>1</td>\n",
       "      <td>1</td>\n",
       "      <td>1</td>\n",
       "      <td>1</td>\n",
       "      <td>0</td>\n",
       "      <td>0</td>\n",
       "    </tr>\n",
       "    <tr>\n",
       "      <th>4</th>\n",
       "      <td>5178</td>\n",
       "      <td>5</td>\n",
       "      <td>3</td>\n",
       "      <td>2</td>\n",
       "      <td>40.76457</td>\n",
       "      <td>-73.98317</td>\n",
       "      <td>2</td>\n",
       "      <td>1.0</td>\n",
       "      <td>1.0</td>\n",
       "      <td>1.0</td>\n",
       "      <td>68</td>\n",
       "      <td>0</td>\n",
       "      <td>1</td>\n",
       "      <td>0</td>\n",
       "      <td>1</td>\n",
       "      <td>0</td>\n",
       "      <td>1</td>\n",
       "      <td>1</td>\n",
       "      <td>0</td>\n",
       "      <td>0</td>\n",
       "    </tr>\n",
       "    <tr>\n",
       "      <th>5</th>\n",
       "      <td>5203</td>\n",
       "      <td>5</td>\n",
       "      <td>3</td>\n",
       "      <td>2</td>\n",
       "      <td>40.80380</td>\n",
       "      <td>-73.96751</td>\n",
       "      <td>1</td>\n",
       "      <td>1.0</td>\n",
       "      <td>1.0</td>\n",
       "      <td>1.0</td>\n",
       "      <td>75</td>\n",
       "      <td>0</td>\n",
       "      <td>0</td>\n",
       "      <td>0</td>\n",
       "      <td>1</td>\n",
       "      <td>0</td>\n",
       "      <td>1</td>\n",
       "      <td>1</td>\n",
       "      <td>1</td>\n",
       "      <td>1</td>\n",
       "    </tr>\n",
       "    <tr>\n",
       "      <th>8</th>\n",
       "      <td>6872</td>\n",
       "      <td>5</td>\n",
       "      <td>4</td>\n",
       "      <td>2</td>\n",
       "      <td>40.80107</td>\n",
       "      <td>-73.94255</td>\n",
       "      <td>1</td>\n",
       "      <td>1.0</td>\n",
       "      <td>1.0</td>\n",
       "      <td>1.0</td>\n",
       "      <td>65</td>\n",
       "      <td>0</td>\n",
       "      <td>0</td>\n",
       "      <td>0</td>\n",
       "      <td>0</td>\n",
       "      <td>1</td>\n",
       "      <td>1</td>\n",
       "      <td>1</td>\n",
       "      <td>1</td>\n",
       "      <td>0</td>\n",
       "    </tr>\n",
       "  </tbody>\n",
       "</table>\n",
       "</div>"
      ],
      "text/plain": [
       "     id  neighbourhood  property_type  room_type  latitude  longitude  \\\n",
       "1  3831              4              1          3  40.68494  -73.95765   \n",
       "3  5136              4              2          3  40.66265  -73.99454   \n",
       "4  5178              5              3          2  40.76457  -73.98317   \n",
       "5  5203              5              3          2  40.80380  -73.96751   \n",
       "8  6872              5              4          2  40.80107  -73.94255   \n",
       "\n",
       "   accommodates  bathrooms  bedrooms  beds  price  category  TV  Internet  \\\n",
       "1             3        1.0       1.0   3.0     75         0   1         0   \n",
       "3             4        1.5       2.0   2.0    275         2   1         0   \n",
       "4             2        1.0       1.0   1.0     68         0   1         0   \n",
       "5             1        1.0       1.0   1.0     75         0   0         0   \n",
       "8             1        1.0       1.0   1.0     65         0   0         0   \n",
       "\n",
       "   Air_conditioning  Kitchen  Heating  Wifi  Elevator  Breakfast  \n",
       "1                 1        1        1     1         0          0  \n",
       "3                 1        1        1     1         0          0  \n",
       "4                 1        0        1     1         0          0  \n",
       "5                 1        0        1     1         1          1  \n",
       "8                 0        1        1     1         1          0  "
      ]
     },
     "execution_count": 9,
     "metadata": {},
     "output_type": "execute_result"
    }
   ],
   "source": [
    "df.head()"
   ]
  },
  {
   "cell_type": "markdown",
   "id": "c39a6acb",
   "metadata": {
    "tags": []
   },
   "source": [
    "## Split data for cross-validation"
   ]
  },
  {
   "cell_type": "code",
   "execution_count": 11,
   "id": "c627e777",
   "metadata": {},
   "outputs": [],
   "source": [
    "FEATURE_NAMES = ['neighbourhood', 'property_type','room_type', 'latitude',\n",
    "       'longitude', 'accommodates', 'bathrooms', 'bedrooms', 'beds', 'TV', 'Internet', 'Air_conditioning', 'Kitchen', 'Heating',\n",
    "       'Wifi', 'Elevator', 'Breakfast']\n",
    "\n",
    "X = df[FEATURE_NAMES]\n",
    "y = df['category']"
   ]
  },
  {
   "cell_type": "code",
   "execution_count": 12,
   "id": "37331db0",
   "metadata": {},
   "outputs": [],
   "source": [
    "X_train, X_test, y_train, y_test = train_test_split(X, y, test_size=0.15, random_state=1)"
   ]
  },
  {
   "cell_type": "markdown",
   "id": "2f69c8ce",
   "metadata": {},
   "source": [
    "## A simple classifier model"
   ]
  },
  {
   "cell_type": "code",
   "execution_count": 150,
   "id": "d0b66b5d-c449-4885-b90e-e4dd8c36108b",
   "metadata": {},
   "outputs": [],
   "source": [
    "pipeline_optimizer = TPOTClassifier()"
   ]
  },
  {
   "cell_type": "code",
   "execution_count": 151,
   "id": "c3365e73-8b68-460c-8def-b49cfb0e69af",
   "metadata": {},
   "outputs": [],
   "source": [
    "pipeline_optimizer = TPOTClassifier(generations=5, population_size=20, cv=5,\n",
    "                                    random_state=42, verbosity=2)"
   ]
  },
  {
   "cell_type": "code",
   "execution_count": 152,
   "id": "ee245c67-fce5-4832-af80-2cb728c76037",
   "metadata": {},
   "outputs": [
    {
     "data": {
      "application/vnd.jupyter.widget-view+json": {
       "model_id": "",
       "version_major": 2,
       "version_minor": 0
      },
      "text/plain": [
       "Optimization Progress:   0%|          | 0/120 [00:00<?, ?pipeline/s]"
      ]
     },
     "metadata": {},
     "output_type": "display_data"
    },
    {
     "name": "stdout",
     "output_type": "stream",
     "text": [
      "\n",
      "Generation 1 - Current best internal CV score: 0.6968669700888434\n",
      "\n",
      "Generation 2 - Current best internal CV score: 0.6968669700888434\n",
      "\n",
      "Generation 3 - Current best internal CV score: 0.698197087600421\n",
      "\n",
      "Generation 4 - Current best internal CV score: 0.6988252255765424\n",
      "\n",
      "Generation 5 - Current best internal CV score: 0.6988252255765424\n",
      "\n",
      "Best pipeline: RandomForestClassifier(input_matrix, bootstrap=True, criterion=gini, max_features=0.2, min_samples_leaf=2, min_samples_split=4, n_estimators=100)\n"
     ]
    },
    {
     "data": {
      "text/plain": [
       "TPOTClassifier(generations=5, population_size=20, random_state=42, verbosity=2)"
      ]
     },
     "execution_count": 152,
     "metadata": {},
     "output_type": "execute_result"
    }
   ],
   "source": [
    "pipeline_optimizer.fit(X_train, y_train)"
   ]
  },
  {
   "cell_type": "code",
   "execution_count": 14,
   "id": "e31faec7-3399-48fc-a564-d83a310e57bc",
   "metadata": {},
   "outputs": [
    {
     "name": "stdout",
     "output_type": "stream",
     "text": [
      "0.7155118275068034\n"
     ]
    }
   ],
   "source": [
    "# Compute overall accuracy\n",
    "print(pipeline_optimizer.score(X_test, y_test))"
   ]
  },
  {
   "cell_type": "markdown",
   "id": "50ecc3f8",
   "metadata": {},
   "source": [
    "### Evaluate the model"
   ]
  },
  {
   "cell_type": "code",
   "execution_count": 15,
   "id": "7ef5e521",
   "metadata": {},
   "outputs": [],
   "source": [
    "y_pred = pipeline_optimizer.predict(X_test)"
   ]
  },
  {
   "cell_type": "code",
   "execution_count": 16,
   "id": "f6f8bb8d",
   "metadata": {},
   "outputs": [
    {
     "data": {
      "text/plain": [
       "0.7155118275068034"
      ]
     },
     "execution_count": 16,
     "metadata": {},
     "output_type": "execute_result"
    }
   ],
   "source": [
    "# Compute overall accuracy\n",
    "accuracy_score(y_test, y_pred)"
   ]
  },
  {
   "cell_type": "code",
   "execution_count": 17,
   "id": "f2b1ea4b",
   "metadata": {},
   "outputs": [
    {
     "data": {
      "text/plain": [
       "0.8864857029448854"
      ]
     },
     "execution_count": 17,
     "metadata": {},
     "output_type": "execute_result"
    }
   ],
   "source": [
    "# Compute overall one-versus-rest area under the ROC\n",
    "\n",
    "y_proba = pipeline_optimizer.predict_proba(X_test)\n",
    "roc_auc_score(y_test, y_proba, multi_class='ovr')"
   ]
  },
  {
   "cell_type": "code",
   "execution_count": 20,
   "id": "ee0bfc13",
   "metadata": {},
   "outputs": [
    {
     "data": {
      "image/png": "[encoded data removed]",
      "text/plain": [
       "<Figure size 864x504 with 1 Axes>"
      ]
     },
     "metadata": {
      "needs_background": "light"
     },
     "output_type": "display_data"
    }
   ],
   "source": [
    "# importances = pipeline_optimizer.fitted_pipeline_['randomforestclassifier'].feature_importances_\n",
    "importances = pipeline_optimizer.feature_importances_\n",
    "indices = np.argsort(importances)[::-1]\n",
    "features = X_train.columns[indices]\n",
    "importances = importances[indices]\n",
    "\n",
    "fig, ax = plt.subplots(figsize=(12, 7))\n",
    "plt.barh(range(len(importances)), importances)\n",
    "plt.yticks(range(len(importances)), features, fontsize=12)\n",
    "ax.invert_yaxis()\n",
    "ax.set_xlabel(\"Feature importance\", fontsize=12)\n",
    "\n",
    "plt.show()"
   ]
  },
  {
   "cell_type": "code",
   "execution_count": 21,
   "id": "92889c4f",
   "metadata": {},
   "outputs": [
    {
     "data": {
      "image/png": "[encoded data removed]",
      "text/plain": [
       "<Figure size 720x720 with 1 Axes>"
      ]
     },
     "metadata": {
      "needs_background": "light"
     },
     "output_type": "display_data"
    }
   ],
   "source": [
    "classes = [0, 1, 2, 3]\n",
    "labels = ['low', 'mid', 'high', 'lux']\n",
    "\n",
    "c = confusion_matrix(y_test, y_pred)\n",
    "c = c / c.sum(axis=1).reshape(len(classes), 1)\n",
    "\n",
    "# Plot\n",
    "fig, ax = plt.subplots(figsize=(10, 10))\n",
    "sns.heatmap(c, annot=True, cmap='BuGn', square=True, fmt='.2f', annot_kws={'size': 10}, cbar=False)\n",
    "plt.xlabel('Predicted', fontsize=16)\n",
    "plt.ylabel('Real', fontsize=16)\n",
    "plt.xticks(ticks=np.arange(.5, len(classes)), labels=labels, rotation=0, fontsize=12)\n",
    "plt.yticks(ticks=np.arange(.5, len(classes)), labels=labels, rotation=0, fontsize=12)\n",
    "plt.title(\"Simple model\", fontsize=18)\n",
    "\n",
    "plt.show()"
   ]
  },
  {
   "cell_type": "code",
   "execution_count": 22,
   "id": "f8a83fc9",
   "metadata": {},
   "outputs": [
    {
     "data": {
      "text/html": [
       "<div>\n",
       "<style scoped>\n",
       "    .dataframe tbody tr th:only-of-type {\n",
       "        vertical-align: middle;\n",
       "    }\n",
       "\n",
       "    .dataframe tbody tr th {\n",
       "        vertical-align: top;\n",
       "    }\n",
       "\n",
       "    .dataframe thead th {\n",
       "        text-align: right;\n",
       "    }\n",
       "</style>\n",
       "<table border=\"1\" class=\"dataframe\">\n",
       "  <thead>\n",
       "    <tr style=\"text-align: right;\">\n",
       "      <th></th>\n",
       "      <th>precision</th>\n",
       "      <th>recall</th>\n",
       "      <th>f1-score</th>\n",
       "      <th>support</th>\n",
       "    </tr>\n",
       "  </thead>\n",
       "  <tbody>\n",
       "    <tr>\n",
       "      <th>low</th>\n",
       "      <td>0.836918</td>\n",
       "      <td>0.855317</td>\n",
       "      <td>0.846018</td>\n",
       "      <td>1956.0</td>\n",
       "    </tr>\n",
       "    <tr>\n",
       "      <th>mid</th>\n",
       "      <td>0.619459</td>\n",
       "      <td>0.677582</td>\n",
       "      <td>0.647218</td>\n",
       "      <td>1588.0</td>\n",
       "    </tr>\n",
       "    <tr>\n",
       "      <th>high</th>\n",
       "      <td>0.625806</td>\n",
       "      <td>0.570588</td>\n",
       "      <td>0.596923</td>\n",
       "      <td>1020.0</td>\n",
       "    </tr>\n",
       "    <tr>\n",
       "      <th>lux</th>\n",
       "      <td>0.783784</td>\n",
       "      <td>0.408451</td>\n",
       "      <td>0.537037</td>\n",
       "      <td>213.0</td>\n",
       "    </tr>\n",
       "  </tbody>\n",
       "</table>\n",
       "</div>"
      ],
      "text/plain": [
       "      precision    recall  f1-score  support\n",
       "low    0.836918  0.855317  0.846018   1956.0\n",
       "mid    0.619459  0.677582  0.647218   1588.0\n",
       "high   0.625806  0.570588  0.596923   1020.0\n",
       "lux    0.783784  0.408451  0.537037    213.0"
      ]
     },
     "execution_count": 22,
     "metadata": {},
     "output_type": "execute_result"
    }
   ],
   "source": [
    "maps = {'0': 'low', '1': 'mid', '2': 'high', '3': 'lux'}\n",
    "\n",
    "report = classification_report(y_test, y_pred, output_dict=True)\n",
    "df_report = pd.DataFrame.from_dict(report).T[:-3]\n",
    "df_report.index = [maps[i] for i in df_report.index]\n",
    "df_report"
   ]
  },
  {
   "cell_type": "code",
   "execution_count": 23,
   "id": "b6f1dd1b",
   "metadata": {},
   "outputs": [
    {
     "data": {
      "image/png": "[encoded data removed]",
      "text/plain": [
       "<Figure size 1152x504 with 3 Axes>"
      ]
     },
     "metadata": {
      "needs_background": "light"
     },
     "output_type": "display_data"
    }
   ],
   "source": [
    "metrics = ['precision', 'recall', 'support']\n",
    "\n",
    "fig, axes = plt.subplots(1, len(metrics), figsize=(16, 7))\n",
    "\n",
    "for i, ax in enumerate(axes):\n",
    "\n",
    "    ax.barh(df_report.index, df_report[metrics[i]], alpha=0.9)\n",
    "    ax.tick_params(axis='both', which='major', labelsize=12)\n",
    "    ax.set_xlabel(metrics[i], fontsize=12)\n",
    "    ax.invert_yaxis()\n",
    "    ax.spines['top'].set_visible(False)\n",
    "    ax.spines['right'].set_visible(False)\n",
    "\n",
    "plt.suptitle(\"Simple model\", fontsize=14)\n",
    "plt.show()"
   ]
  },
  {
   "cell_type": "code",
   "execution_count": 180,
   "id": "570e11dc",
   "metadata": {},
   "outputs": [],
   "source": [
    "pickle.dump(pipeline_optimizer.fitted_pipeline_['randomforestclassifier'], open(DIR_MODELS / \"simple_classifier.pkl\", 'wb'))"
   ]
  },
  {
   "cell_type": "code",
   "execution_count": 72,
   "id": "a59d48fb-1bec-4a7d-afa1-cd267c2525be",
   "metadata": {},
   "outputs": [
    {
     "data": {
      "text/html": [
       "<div>\n",
       "<style scoped>\n",
       "    .dataframe tbody tr th:only-of-type {\n",
       "        vertical-align: middle;\n",
       "    }\n",
       "\n",
       "    .dataframe tbody tr th {\n",
       "        vertical-align: top;\n",
       "    }\n",
       "\n",
       "    .dataframe thead th {\n",
       "        text-align: right;\n",
       "    }\n",
       "</style>\n",
       "<table border=\"1\" class=\"dataframe\">\n",
       "  <thead>\n",
       "    <tr style=\"text-align: right;\">\n",
       "      <th></th>\n",
       "      <th>neighbourhood</th>\n",
       "      <th>property_type</th>\n",
       "      <th>room_type</th>\n",
       "      <th>latitude</th>\n",
       "      <th>longitude</th>\n",
       "      <th>accommodates</th>\n",
       "      <th>bathrooms</th>\n",
       "      <th>bedrooms</th>\n",
       "      <th>beds</th>\n",
       "      <th>TV</th>\n",
       "      <th>Internet</th>\n",
       "      <th>Air_conditioning</th>\n",
       "      <th>Kitchen</th>\n",
       "      <th>Heating</th>\n",
       "      <th>Wifi</th>\n",
       "      <th>Elevator</th>\n",
       "      <th>Breakfast</th>\n",
       "    </tr>\n",
       "  </thead>\n",
       "  <tbody>\n",
       "    <tr>\n",
       "      <th>11038</th>\n",
       "      <td>4</td>\n",
       "      <td>3</td>\n",
       "      <td>2</td>\n",
       "      <td>40.71774</td>\n",
       "      <td>-73.94466</td>\n",
       "      <td>2</td>\n",
       "      <td>1.0</td>\n",
       "      <td>1.0</td>\n",
       "      <td>1.0</td>\n",
       "      <td>1</td>\n",
       "      <td>0</td>\n",
       "      <td>1</td>\n",
       "      <td>1</td>\n",
       "      <td>1</td>\n",
       "      <td>1</td>\n",
       "      <td>0</td>\n",
       "      <td>1</td>\n",
       "    </tr>\n",
       "    <tr>\n",
       "      <th>29233</th>\n",
       "      <td>4</td>\n",
       "      <td>3</td>\n",
       "      <td>2</td>\n",
       "      <td>40.71184</td>\n",
       "      <td>-73.95957</td>\n",
       "      <td>1</td>\n",
       "      <td>1.0</td>\n",
       "      <td>1.0</td>\n",
       "      <td>1.0</td>\n",
       "      <td>0</td>\n",
       "      <td>0</td>\n",
       "      <td>1</td>\n",
       "      <td>1</td>\n",
       "      <td>1</td>\n",
       "      <td>1</td>\n",
       "      <td>0</td>\n",
       "      <td>0</td>\n",
       "    </tr>\n",
       "    <tr>\n",
       "      <th>19905</th>\n",
       "      <td>2</td>\n",
       "      <td>3</td>\n",
       "      <td>2</td>\n",
       "      <td>40.65988</td>\n",
       "      <td>-73.77001</td>\n",
       "      <td>2</td>\n",
       "      <td>1.0</td>\n",
       "      <td>1.0</td>\n",
       "      <td>1.0</td>\n",
       "      <td>1</td>\n",
       "      <td>0</td>\n",
       "      <td>1</td>\n",
       "      <td>1</td>\n",
       "      <td>1</td>\n",
       "      <td>1</td>\n",
       "      <td>0</td>\n",
       "      <td>0</td>\n",
       "    </tr>\n",
       "    <tr>\n",
       "      <th>7699</th>\n",
       "      <td>5</td>\n",
       "      <td>3</td>\n",
       "      <td>2</td>\n",
       "      <td>40.80021</td>\n",
       "      <td>-73.96277</td>\n",
       "      <td>1</td>\n",
       "      <td>1.0</td>\n",
       "      <td>1.0</td>\n",
       "      <td>1.0</td>\n",
       "      <td>1</td>\n",
       "      <td>0</td>\n",
       "      <td>1</td>\n",
       "      <td>1</td>\n",
       "      <td>1</td>\n",
       "      <td>1</td>\n",
       "      <td>0</td>\n",
       "      <td>0</td>\n",
       "    </tr>\n",
       "    <tr>\n",
       "      <th>20694</th>\n",
       "      <td>5</td>\n",
       "      <td>8</td>\n",
       "      <td>2</td>\n",
       "      <td>40.80645</td>\n",
       "      <td>-73.95168</td>\n",
       "      <td>2</td>\n",
       "      <td>1.5</td>\n",
       "      <td>1.0</td>\n",
       "      <td>2.0</td>\n",
       "      <td>1</td>\n",
       "      <td>0</td>\n",
       "      <td>1</td>\n",
       "      <td>1</td>\n",
       "      <td>1</td>\n",
       "      <td>1</td>\n",
       "      <td>0</td>\n",
       "      <td>1</td>\n",
       "    </tr>\n",
       "    <tr>\n",
       "      <th>...</th>\n",
       "      <td>...</td>\n",
       "      <td>...</td>\n",
       "      <td>...</td>\n",
       "      <td>...</td>\n",
       "      <td>...</td>\n",
       "      <td>...</td>\n",
       "      <td>...</td>\n",
       "      <td>...</td>\n",
       "      <td>...</td>\n",
       "      <td>...</td>\n",
       "      <td>...</td>\n",
       "      <td>...</td>\n",
       "      <td>...</td>\n",
       "      <td>...</td>\n",
       "      <td>...</td>\n",
       "      <td>...</td>\n",
       "      <td>...</td>\n",
       "    </tr>\n",
       "    <tr>\n",
       "      <th>22959</th>\n",
       "      <td>4</td>\n",
       "      <td>7</td>\n",
       "      <td>2</td>\n",
       "      <td>40.67981</td>\n",
       "      <td>-73.94382</td>\n",
       "      <td>2</td>\n",
       "      <td>2.0</td>\n",
       "      <td>1.0</td>\n",
       "      <td>1.0</td>\n",
       "      <td>1</td>\n",
       "      <td>0</td>\n",
       "      <td>1</td>\n",
       "      <td>1</td>\n",
       "      <td>1</td>\n",
       "      <td>1</td>\n",
       "      <td>0</td>\n",
       "      <td>0</td>\n",
       "    </tr>\n",
       "    <tr>\n",
       "      <th>35458</th>\n",
       "      <td>5</td>\n",
       "      <td>3</td>\n",
       "      <td>2</td>\n",
       "      <td>40.79563</td>\n",
       "      <td>-73.96461</td>\n",
       "      <td>1</td>\n",
       "      <td>2.0</td>\n",
       "      <td>1.0</td>\n",
       "      <td>1.0</td>\n",
       "      <td>1</td>\n",
       "      <td>0</td>\n",
       "      <td>1</td>\n",
       "      <td>1</td>\n",
       "      <td>0</td>\n",
       "      <td>1</td>\n",
       "      <td>0</td>\n",
       "      <td>0</td>\n",
       "    </tr>\n",
       "    <tr>\n",
       "      <th>14347</th>\n",
       "      <td>4</td>\n",
       "      <td>3</td>\n",
       "      <td>2</td>\n",
       "      <td>40.67333</td>\n",
       "      <td>-73.94769</td>\n",
       "      <td>1</td>\n",
       "      <td>1.0</td>\n",
       "      <td>1.0</td>\n",
       "      <td>1.0</td>\n",
       "      <td>1</td>\n",
       "      <td>0</td>\n",
       "      <td>1</td>\n",
       "      <td>1</td>\n",
       "      <td>1</td>\n",
       "      <td>1</td>\n",
       "      <td>0</td>\n",
       "      <td>0</td>\n",
       "    </tr>\n",
       "    <tr>\n",
       "      <th>24611</th>\n",
       "      <td>4</td>\n",
       "      <td>10</td>\n",
       "      <td>3</td>\n",
       "      <td>40.64873</td>\n",
       "      <td>-73.89826</td>\n",
       "      <td>4</td>\n",
       "      <td>1.0</td>\n",
       "      <td>2.0</td>\n",
       "      <td>2.0</td>\n",
       "      <td>1</td>\n",
       "      <td>0</td>\n",
       "      <td>1</td>\n",
       "      <td>1</td>\n",
       "      <td>1</td>\n",
       "      <td>1</td>\n",
       "      <td>0</td>\n",
       "      <td>0</td>\n",
       "    </tr>\n",
       "    <tr>\n",
       "      <th>6659</th>\n",
       "      <td>5</td>\n",
       "      <td>2</td>\n",
       "      <td>3</td>\n",
       "      <td>40.73200</td>\n",
       "      <td>-73.98518</td>\n",
       "      <td>2</td>\n",
       "      <td>1.0</td>\n",
       "      <td>1.0</td>\n",
       "      <td>1.0</td>\n",
       "      <td>1</td>\n",
       "      <td>0</td>\n",
       "      <td>1</td>\n",
       "      <td>1</td>\n",
       "      <td>1</td>\n",
       "      <td>1</td>\n",
       "      <td>1</td>\n",
       "      <td>0</td>\n",
       "    </tr>\n",
       "  </tbody>\n",
       "</table>\n",
       "<p>4777 rows × 17 columns</p>\n",
       "</div>"
      ],
      "text/plain": [
       "       neighbourhood  property_type  room_type  latitude  longitude  \\\n",
       "11038              4              3          2  40.71774  -73.94466   \n",
       "29233              4              3          2  40.71184  -73.95957   \n",
       "19905              2              3          2  40.65988  -73.77001   \n",
       "7699               5              3          2  40.80021  -73.96277   \n",
       "20694              5              8          2  40.80645  -73.95168   \n",
       "...              ...            ...        ...       ...        ...   \n",
       "22959              4              7          2  40.67981  -73.94382   \n",
       "35458              5              3          2  40.79563  -73.96461   \n",
       "14347              4              3          2  40.67333  -73.94769   \n",
       "24611              4             10          3  40.64873  -73.89826   \n",
       "6659               5              2          3  40.73200  -73.98518   \n",
       "\n",
       "       accommodates  bathrooms  bedrooms  beds  TV  Internet  \\\n",
       "11038             2        1.0       1.0   1.0   1         0   \n",
       "29233             1        1.0       1.0   1.0   0         0   \n",
       "19905             2        1.0       1.0   1.0   1         0   \n",
       "7699              1        1.0       1.0   1.0   1         0   \n",
       "20694             2        1.5       1.0   2.0   1         0   \n",
       "...             ...        ...       ...   ...  ..       ...   \n",
       "22959             2        2.0       1.0   1.0   1         0   \n",
       "35458             1        2.0       1.0   1.0   1         0   \n",
       "14347             1        1.0       1.0   1.0   1         0   \n",
       "24611             4        1.0       2.0   2.0   1         0   \n",
       "6659              2        1.0       1.0   1.0   1         0   \n",
       "\n",
       "       Air_conditioning  Kitchen  Heating  Wifi  Elevator  Breakfast  \n",
       "11038                 1        1        1     1         0          1  \n",
       "29233                 1        1        1     1         0          0  \n",
       "19905                 1        1        1     1         0          0  \n",
       "7699                  1        1        1     1         0          0  \n",
       "20694                 1        1        1     1         0          1  \n",
       "...                 ...      ...      ...   ...       ...        ...  \n",
       "22959                 1        1        1     1         0          0  \n",
       "35458                 1        1        0     1         0          0  \n",
       "14347                 1        1        1     1         0          0  \n",
       "24611                 1        1        1     1         0          0  \n",
       "6659                  1        1        1     1         1          0  \n",
       "\n",
       "[4777 rows x 17 columns]"
      ]
     },
     "execution_count": 72,
     "metadata": {},
     "output_type": "execute_result"
    }
   ],
   "source": [
    "X_test"
   ]
  },
  {
   "cell_type": "code",
   "execution_count": 76,
   "id": "064a3b14-9637-40a8-888b-db82d59e7707",
   "metadata": {},
   "outputs": [],
   "source": [
    "dic_tmp = { \"neighbourhood\": 4,\n",
    "            \"property_type\":2,\n",
    "            \"room_type\": 3,\n",
    "            \"latitude\": 40.71383,\n",
    "            \"longitude\": -73.9658,\n",
    "            \"accommodates\": 4,\n",
    "            \"bathrooms\": 2,\n",
    "            \"bedrooms\": 1,\n",
    "            \"beds\": 2,\n",
    "            \"TV\": 1,\n",
    "            \"Internet\": 0,\n",
    "            \"Air_conditioning\":0,\n",
    "            \"Kitchen\":0,\n",
    "            \"Heating\":0,\n",
    "            \"Wifi\":0,\n",
    "            \"Elevator\": 1,\n",
    "            \"Breakfast\":0\n",
    "    }"
   ]
  },
  {
   "cell_type": "code",
   "execution_count": 77,
   "id": "c70032ed-e77a-46f3-bd6a-ad94439ba376",
   "metadata": {},
   "outputs": [],
   "source": [
    "series = pd.Series(dic_tmp).values.reshape(1, -1)"
   ]
  },
  {
   "cell_type": "code",
   "execution_count": 78,
   "id": "77bdc635-342d-4c21-8a06-93f9424d6d16",
   "metadata": {},
   "outputs": [
    {
     "name": "stderr",
     "output_type": "stream",
     "text": [
      "D:\\Anaconda\\lib\\site-packages\\sklearn\\base.py:445: UserWarning: X does not have valid feature names, but RandomForestClassifier was fitted with feature names\n",
      "  warnings.warn(\n"
     ]
    }
   ],
   "source": [
    "tmp = pipeline_optimizer.predict(series)"
   ]
  },
  {
   "cell_type": "code",
   "execution_count": 85,
   "id": "0e55f4e6-58da-4e86-810c-2f7834a05e2c",
   "metadata": {},
   "outputs": [
    {
     "data": {
      "text/plain": [
       "2"
      ]
     },
     "execution_count": 85,
     "metadata": {},
     "output_type": "execute_result"
    }
   ],
   "source": [
    "tmp[0]"
   ]
  },
  {
   "cell_type": "code",
   "execution_count": null,
   "id": "4dd14281-c2cc-49be-8942-c745175806a5",
   "metadata": {},
   "outputs": [],
   "source": []
  }
 ],
 "metadata": {
  "kernelspec": {
   "display_name": "Python 3 (ipykernel)",
   "language": "python",
   "name": "python3"
  },
  "language_info": {
   "codemirror_mode": {
    "name": "ipython",
    "version": 3
   },
   "file_extension": ".py",
   "mimetype": "text/x-python",
   "name": "python",
   "nbconvert_exporter": "python",
   "pygments_lexer": "ipython3",
   "version": "3.8.12"
  }
 },
 "nbformat": 4,
 "nbformat_minor": 5
}
