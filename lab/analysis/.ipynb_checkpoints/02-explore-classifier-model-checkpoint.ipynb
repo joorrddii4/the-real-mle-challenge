{
 "cells": [
  {
   "cell_type": "markdown",
   "id": "456c039a",
   "metadata": {},
   "source": [
    "# Preliminary model for classification"
   ]
  },
  {
   "cell_type": "markdown",
   "id": "88c2f0d3",
   "metadata": {},
   "source": [
    "This notebook aims to develop a preliminary version of a classifier for the challenge."
   ]
  },
  {
   "cell_type": "code",
   "execution_count": 55,
   "id": "7d97dfb0",
   "metadata": {},
   "outputs": [],
   "source": [
    "import os\n",
    "from pathlib import Path\n",
    "\n",
    "from matplotlib import pyplot as plt\n",
    "import numpy as np\n",
    "import pandas as pd\n",
    "\n",
    "import seaborn as sns\n",
    "from sklearn.ensemble import RandomForestClassifier\n",
    "from sklearn.metrics import accuracy_score, roc_auc_score, classification_report, confusion_matrix\n",
    "from sklearn.model_selection import train_test_split\n",
    "\n",
    "import pickle"
   ]
  },
  {
   "cell_type": "markdown",
   "id": "684877bc",
   "metadata": {},
   "source": [
    "## Access processed data"
   ]
  },
  {
   "cell_type": "code",
   "execution_count": 56,
   "id": "b3045f11",
   "metadata": {},
   "outputs": [
    {
     "data": {
      "text/plain": [
       "['preprocessed_listings.csv']"
      ]
     },
     "execution_count": 56,
     "metadata": {},
     "output_type": "execute_result"
    }
   ],
   "source": [
    "DIR_REPO = Path.cwd().parent.parent\n",
    "DIR_DATA_PROCESSED = Path(DIR_REPO) / \"data\" / \"processed\"\n",
    "DIR_MODELS = Path(DIR_REPO) / \"models\"\n",
    "\n",
    "os.listdir(DIR_DATA_PROCESSED)"
   ]
  },
  {
   "cell_type": "code",
   "execution_count": 57,
   "id": "cd7a8eaa",
   "metadata": {},
   "outputs": [],
   "source": [
    "FILEPATH_PROCESSED = DIR_DATA_PROCESSED / \"preprocessed_listings.csv\""
   ]
  },
  {
   "cell_type": "code",
   "execution_count": 58,
   "id": "73c6edbd",
   "metadata": {},
   "outputs": [
    {
     "data": {
      "text/html": [
       "<div>\n",
       "<style scoped>\n",
       "    .dataframe tbody tr th:only-of-type {\n",
       "        vertical-align: middle;\n",
       "    }\n",
       "\n",
       "    .dataframe tbody tr th {\n",
       "        vertical-align: top;\n",
       "    }\n",
       "\n",
       "    .dataframe thead th {\n",
       "        text-align: right;\n",
       "    }\n",
       "</style>\n",
       "<table border=\"1\" class=\"dataframe\">\n",
       "  <thead>\n",
       "    <tr style=\"text-align: right;\">\n",
       "      <th></th>\n",
       "      <th>id</th>\n",
       "      <th>neighbourhood</th>\n",
       "      <th>property_type</th>\n",
       "      <th>room_type</th>\n",
       "      <th>latitude</th>\n",
       "      <th>longitude</th>\n",
       "      <th>accommodates</th>\n",
       "      <th>bathrooms</th>\n",
       "      <th>bedrooms</th>\n",
       "      <th>beds</th>\n",
       "      <th>price</th>\n",
       "      <th>category</th>\n",
       "      <th>TV</th>\n",
       "      <th>Internet</th>\n",
       "      <th>Air_conditioning</th>\n",
       "      <th>Kitchen</th>\n",
       "      <th>Heating</th>\n",
       "      <th>Wifi</th>\n",
       "      <th>Elevator</th>\n",
       "      <th>Breakfast</th>\n",
       "    </tr>\n",
       "  </thead>\n",
       "  <tbody>\n",
       "    <tr>\n",
       "      <th>1</th>\n",
       "      <td>3831</td>\n",
       "      <td>Brooklyn</td>\n",
       "      <td>Entire guest suite</td>\n",
       "      <td>Entire home/apt</td>\n",
       "      <td>40.68494</td>\n",
       "      <td>-73.95765</td>\n",
       "      <td>3</td>\n",
       "      <td>1.0</td>\n",
       "      <td>1.0</td>\n",
       "      <td>3.0</td>\n",
       "      <td>75</td>\n",
       "      <td>0.0</td>\n",
       "      <td>1</td>\n",
       "      <td>0</td>\n",
       "      <td>1</td>\n",
       "      <td>1</td>\n",
       "      <td>1</td>\n",
       "      <td>1</td>\n",
       "      <td>0</td>\n",
       "      <td>0</td>\n",
       "    </tr>\n",
       "    <tr>\n",
       "      <th>3</th>\n",
       "      <td>5136</td>\n",
       "      <td>Brooklyn</td>\n",
       "      <td>Entire rental unit</td>\n",
       "      <td>Entire home/apt</td>\n",
       "      <td>40.66265</td>\n",
       "      <td>-73.99454</td>\n",
       "      <td>4</td>\n",
       "      <td>1.5</td>\n",
       "      <td>2.0</td>\n",
       "      <td>2.0</td>\n",
       "      <td>275</td>\n",
       "      <td>2.0</td>\n",
       "      <td>1</td>\n",
       "      <td>0</td>\n",
       "      <td>1</td>\n",
       "      <td>1</td>\n",
       "      <td>1</td>\n",
       "      <td>1</td>\n",
       "      <td>0</td>\n",
       "      <td>0</td>\n",
       "    </tr>\n",
       "    <tr>\n",
       "      <th>4</th>\n",
       "      <td>5178</td>\n",
       "      <td>Manhattan</td>\n",
       "      <td>Private room in rental unit</td>\n",
       "      <td>Private room</td>\n",
       "      <td>40.76457</td>\n",
       "      <td>-73.98317</td>\n",
       "      <td>2</td>\n",
       "      <td>1.0</td>\n",
       "      <td>1.0</td>\n",
       "      <td>1.0</td>\n",
       "      <td>68</td>\n",
       "      <td>0.0</td>\n",
       "      <td>1</td>\n",
       "      <td>0</td>\n",
       "      <td>1</td>\n",
       "      <td>0</td>\n",
       "      <td>1</td>\n",
       "      <td>1</td>\n",
       "      <td>0</td>\n",
       "      <td>0</td>\n",
       "    </tr>\n",
       "    <tr>\n",
       "      <th>5</th>\n",
       "      <td>5203</td>\n",
       "      <td>Manhattan</td>\n",
       "      <td>Private room in rental unit</td>\n",
       "      <td>Private room</td>\n",
       "      <td>40.80380</td>\n",
       "      <td>-73.96751</td>\n",
       "      <td>1</td>\n",
       "      <td>1.0</td>\n",
       "      <td>1.0</td>\n",
       "      <td>1.0</td>\n",
       "      <td>75</td>\n",
       "      <td>0.0</td>\n",
       "      <td>0</td>\n",
       "      <td>0</td>\n",
       "      <td>1</td>\n",
       "      <td>0</td>\n",
       "      <td>1</td>\n",
       "      <td>1</td>\n",
       "      <td>1</td>\n",
       "      <td>1</td>\n",
       "    </tr>\n",
       "    <tr>\n",
       "      <th>8</th>\n",
       "      <td>6872</td>\n",
       "      <td>Manhattan</td>\n",
       "      <td>Private room in condominium (condo)</td>\n",
       "      <td>Private room</td>\n",
       "      <td>40.80107</td>\n",
       "      <td>-73.94255</td>\n",
       "      <td>1</td>\n",
       "      <td>1.0</td>\n",
       "      <td>1.0</td>\n",
       "      <td>1.0</td>\n",
       "      <td>65</td>\n",
       "      <td>0.0</td>\n",
       "      <td>0</td>\n",
       "      <td>0</td>\n",
       "      <td>0</td>\n",
       "      <td>1</td>\n",
       "      <td>1</td>\n",
       "      <td>1</td>\n",
       "      <td>1</td>\n",
       "      <td>0</td>\n",
       "    </tr>\n",
       "  </tbody>\n",
       "</table>\n",
       "</div>"
      ],
      "text/plain": [
       "     id neighbourhood                        property_type        room_type  \\\n",
       "1  3831      Brooklyn                   Entire guest suite  Entire home/apt   \n",
       "3  5136      Brooklyn                   Entire rental unit  Entire home/apt   \n",
       "4  5178     Manhattan          Private room in rental unit     Private room   \n",
       "5  5203     Manhattan          Private room in rental unit     Private room   \n",
       "8  6872     Manhattan  Private room in condominium (condo)     Private room   \n",
       "\n",
       "   latitude  longitude  accommodates  bathrooms  bedrooms  beds  price  \\\n",
       "1  40.68494  -73.95765             3        1.0       1.0   3.0     75   \n",
       "3  40.66265  -73.99454             4        1.5       2.0   2.0    275   \n",
       "4  40.76457  -73.98317             2        1.0       1.0   1.0     68   \n",
       "5  40.80380  -73.96751             1        1.0       1.0   1.0     75   \n",
       "8  40.80107  -73.94255             1        1.0       1.0   1.0     65   \n",
       "\n",
       "   category  TV  Internet  Air_conditioning  Kitchen  Heating  Wifi  Elevator  \\\n",
       "1       0.0   1         0                 1        1        1     1         0   \n",
       "3       2.0   1         0                 1        1        1     1         0   \n",
       "4       0.0   1         0                 1        0        1     1         0   \n",
       "5       0.0   0         0                 1        0        1     1         1   \n",
       "8       0.0   0         0                 0        1        1     1         1   \n",
       "\n",
       "   Breakfast  \n",
       "1          0  \n",
       "3          0  \n",
       "4          0  \n",
       "5          1  \n",
       "8          0  "
      ]
     },
     "execution_count": 58,
     "metadata": {},
     "output_type": "execute_result"
    }
   ],
   "source": [
    "df = pd.read_csv(FILEPATH_PROCESSED, index_col=0)\n",
    "df.head()"
   ]
  },
  {
   "cell_type": "code",
   "execution_count": 59,
   "id": "d25b3c1e",
   "metadata": {},
   "outputs": [],
   "source": [
    "df = df.dropna(axis=0)"
   ]
  },
  {
   "cell_type": "code",
   "execution_count": 60,
   "id": "04890929",
   "metadata": {},
   "outputs": [
    {
     "data": {
      "text/plain": [
       "Index(['id', 'neighbourhood', 'property_type', 'room_type', 'latitude',\n",
       "       'longitude', 'accommodates', 'bathrooms', 'bedrooms', 'beds', 'price',\n",
       "       'category', 'TV', 'Internet', 'Air_conditioning', 'Kitchen', 'Heating',\n",
       "       'Wifi', 'Elevator', 'Breakfast'],\n",
       "      dtype='object')"
      ]
     },
     "execution_count": 60,
     "metadata": {},
     "output_type": "execute_result"
    }
   ],
   "source": [
    "df.columns"
   ]
  },
  {
   "cell_type": "markdown",
   "id": "d7bd841d",
   "metadata": {},
   "source": [
    "## Convert string to categorical variable"
   ]
  },
  {
   "cell_type": "code",
   "execution_count": 61,
   "id": "d5b18ca0",
   "metadata": {},
   "outputs": [],
   "source": [
    "# Categorical variable mapping dictionaries\n",
    "MAP_ROOM_TYPE = {\"Shared room\": 1, \"Private room\": 2, \"Entire home/apt\": 3, \"Hotel room\": 4}\n",
    "MAP_NEIGHB = {\"Bronx\": 1, \"Queens\": 2, \"Staten Island\": 3, \"Brooklyn\": 4, \"Manhattan\": 5}"
   ]
  },
  {
   "cell_type": "code",
   "execution_count": 62,
   "id": "196eba7c",
   "metadata": {},
   "outputs": [],
   "source": [
    "# Map categorical features\n",
    "df[\"neighbourhood\"] = df[\"neighbourhood\"].map(MAP_NEIGHB)\n",
    "df[\"room_type\"] = df[\"room_type\"].map(MAP_ROOM_TYPE)"
   ]
  },
  {
   "cell_type": "markdown",
   "id": "c39a6acb",
   "metadata": {},
   "source": [
    "## Split data for cross-validation"
   ]
  },
  {
   "cell_type": "code",
   "execution_count": 63,
   "id": "c627e777",
   "metadata": {},
   "outputs": [],
   "source": [
    "FEATURE_NAMES = ['neighbourhood', 'room_type', 'accommodates', 'bathrooms', 'bedrooms']\n",
    "\n",
    "X = df[FEATURE_NAMES]\n",
    "y = df['category']"
   ]
  },
  {
   "cell_type": "code",
   "execution_count": 64,
   "id": "37331db0",
   "metadata": {},
   "outputs": [],
   "source": [
    "X_train, X_test, y_train, y_test = train_test_split(X, y, test_size=0.15, random_state=1)"
   ]
  },
  {
   "cell_type": "markdown",
   "id": "2f69c8ce",
   "metadata": {},
   "source": [
    "## A simple classifier model"
   ]
  },
  {
   "cell_type": "markdown",
   "id": "43da3fd8",
   "metadata": {},
   "source": [
    "### Train the model"
   ]
  },
  {
   "cell_type": "code",
   "execution_count": 65,
   "id": "57111781",
   "metadata": {},
   "outputs": [
    {
     "data": {
      "text/plain": [
       "RandomForestClassifier(class_weight='balanced', n_estimators=500, n_jobs=4,\n",
       "                       random_state=0)"
      ]
     },
     "execution_count": 65,
     "metadata": {},
     "output_type": "execute_result"
    }
   ],
   "source": [
    "clf = RandomForestClassifier(n_estimators=500, random_state=0, class_weight='balanced', n_jobs=4)\n",
    "clf.fit(X_train, y_train)"
   ]
  },
  {
   "cell_type": "markdown",
   "id": "50ecc3f8",
   "metadata": {},
   "source": [
    "### Evaluate the model"
   ]
  },
  {
   "cell_type": "code",
   "execution_count": 66,
   "id": "7ef5e521",
   "metadata": {},
   "outputs": [],
   "source": [
    "y_pred = clf.predict(X_test)"
   ]
  },
  {
   "cell_type": "code",
   "execution_count": 67,
   "id": "f6f8bb8d",
   "metadata": {},
   "outputs": [
    {
     "data": {
      "text/plain": [
       "0.6047339757017176"
      ]
     },
     "execution_count": 67,
     "metadata": {},
     "output_type": "execute_result"
    }
   ],
   "source": [
    "# Compute overall accuracy\n",
    "accuracy_score(y_test, y_pred)"
   ]
  },
  {
   "cell_type": "code",
   "execution_count": 68,
   "id": "f2b1ea4b",
   "metadata": {},
   "outputs": [
    {
     "data": {
      "text/plain": [
       "0.8183801557997225"
      ]
     },
     "execution_count": 68,
     "metadata": {},
     "output_type": "execute_result"
    }
   ],
   "source": [
    "# Compute overall one-versus-rest area under the ROC\n",
    "\n",
    "y_proba = clf.predict_proba(X_test)\n",
    "roc_auc_score(y_test, y_proba, multi_class='ovr')"
   ]
  },
  {
   "cell_type": "code",
   "execution_count": 69,
   "id": "ee0bfc13",
   "metadata": {},
   "outputs": [
    {
     "data": {
      "image/png": "[encoded data removed]",
      "text/plain": [
       "<Figure size 864x504 with 1 Axes>"
      ]
     },
     "metadata": {
      "needs_background": "light"
     },
     "output_type": "display_data"
    }
   ],
   "source": [
    "importances = clf.feature_importances_\n",
    "indices = np.argsort(importances)[::-1]\n",
    "features = X_train.columns[indices]\n",
    "importances = importances[indices]\n",
    "\n",
    "fig, ax = plt.subplots(figsize=(12, 7))\n",
    "plt.barh(range(len(importances)), importances)\n",
    "plt.yticks(range(len(importances)), features, fontsize=12)\n",
    "ax.invert_yaxis()\n",
    "ax.set_xlabel(\"Feature importance\", fontsize=12)\n",
    "\n",
    "plt.show()"
   ]
  },
  {
   "cell_type": "code",
   "execution_count": 70,
   "id": "92889c4f",
   "metadata": {},
   "outputs": [
    {
     "data": {
      "image/png": "[encoded data removed]",
      "text/plain": [
       "<Figure size 720x720 with 1 Axes>"
      ]
     },
     "metadata": {
      "needs_background": "light"
     },
     "output_type": "display_data"
    }
   ],
   "source": [
    "classes = [0, 1, 2, 3]\n",
    "labels = ['low', 'mid', 'high', 'lux']\n",
    "\n",
    "c = confusion_matrix(y_test, y_pred)\n",
    "c = c / c.sum(axis=1).reshape(len(classes), 1)\n",
    "\n",
    "# Plot\n",
    "fig, ax = plt.subplots(figsize=(10, 10))\n",
    "sns.heatmap(c, annot=True, cmap='BuGn', square=True, fmt='.2f', annot_kws={'size': 10}, cbar=False)\n",
    "plt.xlabel('Predicted', fontsize=16)\n",
    "plt.ylabel('Real', fontsize=16)\n",
    "plt.xticks(ticks=np.arange(.5, len(classes)), labels=labels, rotation=0, fontsize=12)\n",
    "plt.yticks(ticks=np.arange(.5, len(classes)), labels=labels, rotation=0, fontsize=12)\n",
    "plt.title(\"Simple model\", fontsize=18)\n",
    "\n",
    "plt.show()"
   ]
  },
  {
   "cell_type": "code",
   "execution_count": 71,
   "id": "f8a83fc9",
   "metadata": {},
   "outputs": [
    {
     "data": {
      "text/html": [
       "<div>\n",
       "<style scoped>\n",
       "    .dataframe tbody tr th:only-of-type {\n",
       "        vertical-align: middle;\n",
       "    }\n",
       "\n",
       "    .dataframe tbody tr th {\n",
       "        vertical-align: top;\n",
       "    }\n",
       "\n",
       "    .dataframe thead th {\n",
       "        text-align: right;\n",
       "    }\n",
       "</style>\n",
       "<table border=\"1\" class=\"dataframe\">\n",
       "  <thead>\n",
       "    <tr style=\"text-align: right;\">\n",
       "      <th></th>\n",
       "      <th>precision</th>\n",
       "      <th>recall</th>\n",
       "      <th>f1-score</th>\n",
       "      <th>support</th>\n",
       "    </tr>\n",
       "  </thead>\n",
       "  <tbody>\n",
       "    <tr>\n",
       "      <th>low</th>\n",
       "      <td>0.840909</td>\n",
       "      <td>0.757033</td>\n",
       "      <td>0.796770</td>\n",
       "      <td>1955.0</td>\n",
       "    </tr>\n",
       "    <tr>\n",
       "      <th>mid</th>\n",
       "      <td>0.532355</td>\n",
       "      <td>0.495345</td>\n",
       "      <td>0.513183</td>\n",
       "      <td>1611.0</td>\n",
       "    </tr>\n",
       "    <tr>\n",
       "      <th>high</th>\n",
       "      <td>0.431138</td>\n",
       "      <td>0.508577</td>\n",
       "      <td>0.466667</td>\n",
       "      <td>991.0</td>\n",
       "    </tr>\n",
       "    <tr>\n",
       "      <th>lux</th>\n",
       "      <td>0.303468</td>\n",
       "      <td>0.483871</td>\n",
       "      <td>0.373002</td>\n",
       "      <td>217.0</td>\n",
       "    </tr>\n",
       "  </tbody>\n",
       "</table>\n",
       "</div>"
      ],
      "text/plain": [
       "      precision    recall  f1-score  support\n",
       "low    0.840909  0.757033  0.796770   1955.0\n",
       "mid    0.532355  0.495345  0.513183   1611.0\n",
       "high   0.431138  0.508577  0.466667    991.0\n",
       "lux    0.303468  0.483871  0.373002    217.0"
      ]
     },
     "execution_count": 71,
     "metadata": {},
     "output_type": "execute_result"
    }
   ],
   "source": [
    "maps = {'0.0': 'low', '1.0': 'mid', '2.0': 'high', '3.0': 'lux'}\n",
    "\n",
    "report = classification_report(y_test, y_pred, output_dict=True)\n",
    "df_report = pd.DataFrame.from_dict(report).T[:-3]\n",
    "df_report.index = [maps[i] for i in df_report.index]\n",
    "df_report"
   ]
  },
  {
   "cell_type": "code",
   "execution_count": 72,
   "id": "b6f1dd1b",
   "metadata": {},
   "outputs": [
    {
     "data": {
      "image/png": "[encoded data removed]",
      "text/plain": [
       "<Figure size 1152x504 with 3 Axes>"
      ]
     },
     "metadata": {
      "needs_background": "light"
     },
     "output_type": "display_data"
    }
   ],
   "source": [
    "metrics = ['precision', 'recall', 'support']\n",
    "\n",
    "fig, axes = plt.subplots(1, len(metrics), figsize=(16, 7))\n",
    "\n",
    "for i, ax in enumerate(axes):\n",
    "\n",
    "    ax.barh(df_report.index, df_report[metrics[i]], alpha=0.9)\n",
    "    ax.tick_params(axis='both', which='major', labelsize=12)\n",
    "    ax.set_xlabel(metrics[i], fontsize=12)\n",
    "    ax.invert_yaxis()\n",
    "    ax.spines['top'].set_visible(False)\n",
    "    ax.spines['right'].set_visible(False)\n",
    "\n",
    "plt.suptitle(\"Simple model\", fontsize=14)\n",
    "plt.show()"
   ]
  },
  {
   "cell_type": "code",
   "execution_count": 73,
   "id": "570e11dc",
   "metadata": {},
   "outputs": [],
   "source": [
    "pickle.dump(clf, open(DIR_MODELS / \"simple_classifier.pkl\", 'wb'))"
   ]
  }
 ],
 "metadata": {
  "kernelspec": {
   "display_name": "Python 3",
   "language": "python",
   "name": "python3"
  },
  "language_info": {
   "codemirror_mode": {
    "name": "ipython",
    "version": 3
   },
   "file_extension": ".py",
   "mimetype": "text/x-python",
   "name": "python",
   "nbconvert_exporter": "python",
   "pygments_lexer": "ipython3",
   "version": "3.8.10"
  }
 },
 "nbformat": 4,
 "nbformat_minor": 5
}
