{
 "cells": [
  {
   "cell_type": "code",
   "execution_count": null,
   "id": "fd0b4a47-2285-4cb4-b8b2-c4408ebbf33c",
   "metadata": {},
   "outputs": [],
   "source": [
    "import numpy as np\n",
    "import requests\n",
    "import json\n",
    "\n",
    "from sklearn.datasets import load_iris\n",
    "from sklearn.model_selection import train_test_split\n",
    "\n",
    "\n",
    "# Serialize the data into json and send the request to the model\n",
    "payload = {\n",
    "    \"id\": 1001,\n",
    "    \"accommodates\": 4,\n",
    "    \"room_type\": \"Entire home/apt\",\n",
    "    \"beds\": 2,\n",
    "    \"bedrooms\": 1,\n",
    "    \"bathrooms\": 2,\n",
    "    \"neighbourhood\": \"Brooklyn\",\n",
    "    \"tv\": 1,\n",
    "    \"elevator\": 1,\n",
    "    \"internet\": 0,\n",
    "    \"latitude\": 40.71383,\n",
    "    \"longitude\": -73.9658\n",
    "}\n",
    "y_predict = requests.post('http://127.0.0.1:5000/iris', data=payload).json()\n",
    "\n",
    "# Make array from the list\n",
    "y_predict = np.array(y_predict)\n",
    "print(y_predict)"
   ]
  }
 ],
 "metadata": {
  "kernelspec": {
   "display_name": "Python 3 (ipykernel)",
   "language": "python",
   "name": "python3"
  },
  "language_info": {
   "codemirror_mode": {
    "name": "ipython",
    "version": 3
   },
   "file_extension": ".py",
   "mimetype": "text/x-python",
   "name": "python",
   "nbconvert_exporter": "python",
   "pygments_lexer": "ipython3",
   "version": "3.8.12"
  }
 },
 "nbformat": 4,
 "nbformat_minor": 5
}
